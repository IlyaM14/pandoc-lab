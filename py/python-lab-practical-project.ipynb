{
 "cells": [
  {
   "cell_type": "markdown",
   "id": "bfe601ef-7327-44a8-9281-bfbbb4a6d67d",
   "metadata": {},
   "source": [
    "# Практическое задание по курсам Python "
   ]
  },
  {
   "cell_type": "markdown",
   "id": "daea0c7a-a6bd-4fa1-876b-8fed15b60e62",
   "metadata": {},
   "source": [
    "Получить программу на Python создающую по шаблону на языке Markdown презентацию Powerpoint c фотографиями и характеристиками товаров"
   ]
  },
  {
   "cell_type": "markdown",
   "id": "cc8ab672-e75f-4208-a7ef-6edc84e1d660",
   "metadata": {},
   "source": [
    "Цель задания:\n",
    "\n",
    "* Создать программу, состоящую из нескольких модулей \n",
    "* Развивать проект от простого сложного\n",
    "* Использовать функции-заглушки (stab) на начальном этапе разработки \n",
    "* Дать возможность слушателям с разными уровнями владения Python довести приложение до подходящего для них уровня сложности.\n",
    "\n",
    "* Практически использовать возможности Python:\n",
    "    - запуск внешней команды (модуль subprocess)\n",
    "    - генераторные функции\n",
    "    - словари\n",
    "    - lambda-выражения и передача параметров-функций\n",
    "    - строковые методы, str.format_map\n",
    "    - запись и чтение из файлов\n",
    "    - csv - файлы\n",
    "    - работа с базами данных\n",
    "    \n",
    "Не обязательно делать все этапы задания:\n",
    "\n",
    "Будем считать. что практика по вводному курсу пройдена если сделаны версии до 3й\n",
    "\n",
    "А по второму курсу, если до версии 5\n",
    "\n",
    "    "
   ]
  },
  {
   "cell_type": "markdown",
   "id": "60c07340-5b1b-4fdd-a163-02e9bc16eba5",
   "metadata": {
    "tags": []
   },
   "source": [
    "## Предварительное скачивание файлов лабораторной работы\n",
    "\n",
    "1) Установите систему контроля версий git. Сайт программы  <https://git-scm.com>\n",
    "2) Загрузите папку проекта из [репозитория github](https://github.com/koch-econ/devops_py_lab.git)\n",
    "\n",
    "> Можно скопировать репозитарий в папку  `mylab` следующей командой: \n",
    "```bash\n",
    "git clone https://github.com/koch-econ/devops_py_lab.git mylab\n",
    "```\n",
    "3) рассмотрите структуру папки проекта"
   ]
  },
  {
   "cell_type": "markdown",
   "id": "525fd835-8970-48f3-a78f-75958045ee41",
   "metadata": {},
   "source": [
    "| папка / файл                        | описание                                                 |\n",
    "|:------------------------------------|:---------------------------------------------------------|\n",
    "| sh                                  | примеры решения сходных задач на bash                    |\n",
    "| py                                  | файлы python                                             |\n",
    "| py/\\*\\_ver\\_1.py                    | заготовки файлов для версии 1 проекта                    |\n",
    "| py/data_source\\_ver\\_*N*.py         | модуль функций получения данных для версии *N* проекта   |\n",
    "| py/main\\_ver\\_*N*.py                | основная программа                                       |\n",
    "| py/markdown2output\\_ver\\_*N*.py     | преобразование в выходной формат (.pptx)                 |\n",
    "| pic                                 | файлы картинок                                           |\n",
    "| pic/*product_id*.png                | фотография товара с артикулом *product_id*.png           |\n",
    "| template                            | шаблоны презентаций                                      |\n",
    "| csv                                 | текстовые файлы данных с разделителем полей `';'`        |\n",
    "| csv/wb_dquotes.csv                  | все поля закавычены `\"`                                  |\n",
    "| csv/wb.csv                          | все текстовые фоля закавычены `\"`                        |\n",
    "| csv/wb_wo_dquotes.csv               | все поля без кавычек                                     |\n",
    "| out                                 | папка для сгенерированных программой файлов              |\n",
    "| out/slides\\_ver\\_*N*.md             | файлы, сгенерированные программой Вашей программой       |\n",
    "| out/slides_obrazec\\_ver\\_*N*.md     | образцы файлов, которые нужно сгенерировать              |\n",
    "| out/slides_obrazec\\_ver\\_*N*.pptx   | образцы файлов, которые нужно сгенерировать              |\n",
    "| out/slides_obrazec\\_ver\\_*N*.html   | образцы файлов, которые нужно сгенерировать              |\n",
    "| out/slides\\_ver\\_*N*.pptx           | файлы, сгенерированные программой Вашей программой       |\n",
    "| out/slides\\_ver\\_*N*.html           | файлы, сгенерированные программой Вашей программой       |\n",
    "| out/slides_obrazec\\_ver\\_*N*.md     | папка для сгенерированных программой файлов              |\n",
    "\n",
    "* * *"
   ]
  },
  {
   "cell_type": "code",
   "execution_count": 17,
   "id": "b13212a0-628c-437c-b8bf-68bb735e7d97",
   "metadata": {},
   "outputs": [
    {
     "name": "stdout",
     "output_type": "stream",
     "text": [
      "Overwriting csv/wb.csv\n"
     ]
    }
   ],
   "source": [
    "%%file csv/wb.csv\n",
    "\"product_id\";\"vendor\";\"model\";\"price\";\"category\"\n",
    "13883932;\"StarWind\";\"Мини-печь smo2003\";5597;5\n",
    "8483040;\"BBK\";\"Микроволновая печь соло 20MWS-711M/WS\";4173;5\n",
    "65374769;\"ATLANT\";\"Холодильник Минск ХМ 4012 022\";30000;6\n",
    "70598275;\"Candy\";\"Стиральная машина CS4 1061DB1/2-07\";22941;6"
   ]
  },
  {
   "cell_type": "code",
   "execution_count": 18,
   "id": "2cf80d3f-d1c3-47cd-9ddb-65b584c268a6",
   "metadata": {},
   "outputs": [
    {
     "name": "stdout",
     "output_type": "stream",
     "text": [
      "Overwriting csv/wb_wo_dquotes.csv\n"
     ]
    }
   ],
   "source": [
    "%%file csv/wb_wo_dquotes.csv\n",
    "product_id;vendor;model;price;category\n",
    "13883932;StarWind;Мини-печь smo2003;5597;5\n",
    "8483040;BBK;Микроволновая печь соло 20MWS-711M/WS;4173;5\n",
    "65374769;ATLANT;Холодильник Минск ХМ 4012 022;30000;6\n",
    "70598275;Candy;Стиральная машина CS4 1061DB1/2-07;22941;6"
   ]
  },
  {
   "cell_type": "code",
   "execution_count": 19,
   "id": "1c1c28d4-152f-4705-8cb4-5c9e12b2fb22",
   "metadata": {},
   "outputs": [
    {
     "name": "stdout",
     "output_type": "stream",
     "text": [
      "Overwriting csv/wb_dquotes.csv\n"
     ]
    }
   ],
   "source": [
    "%%file csv/wb_dquotes.csv\n",
    "\"product_id\";\"vendor\";\"model\";\"price\";\"category\"\n",
    "\"13883932\";\"StarWind\";\"Мини-печь smo2003\";\"5597\";\"5\"\n",
    "\"8483040\";\"BBK\";\"Микроволновая печь соло 20MWS-711M/WS\";\"4173\";\"5\"\n",
    "\"65374769\";\"ATLANT\";\"Холодильник Минск ХМ 4012 022\";\"30000\";\"6\"\n",
    "\"70598275\";\"Candy\";\"Стиральная машина CS4 1061DB1/2-07\";\"22941\";\"6\""
   ]
  },
  {
   "cell_type": "code",
   "execution_count": 7,
   "id": "1a803558-f69f-4df0-bae8-ceb6dfe8d426",
   "metadata": {},
   "outputs": [
    {
     "name": "stdout",
     "output_type": "stream",
     "text": [
      "13883932.png     70598275.png     category_5.jpeg\n",
      "65374769.png     8483040.png      category_6.jpeg\n"
     ]
    }
   ],
   "source": [
    "%ls pic"
   ]
  },
  {
   "cell_type": "code",
   "execution_count": 22,
   "id": "8cb7ce10-5fb0-41b4-a8a3-7345b94f2e70",
   "metadata": {},
   "outputs": [],
   "source": [
    "mkdir template"
   ]
  },
  {
   "cell_type": "code",
   "execution_count": 23,
   "id": "dc18154d-4f47-408a-8b7f-61475d8c3e84",
   "metadata": {},
   "outputs": [
    {
     "name": "stdout",
     "output_type": "stream",
     "text": [
      "Writing template/category_ver_1.md\n"
     ]
    }
   ],
   "source": [
    "%%file template/category_ver_1.md\n",
    "\n",
    "## Техника для кухни\n",
    "\n",
    "![](pic/category_5.jpeg)\n",
    "\n",
    "* * * \n"
   ]
  },
  {
   "cell_type": "code",
   "execution_count": 25,
   "id": "78cad381-a805-459d-b307-cad79ee64b6f",
   "metadata": {},
   "outputs": [
    {
     "name": "stdout",
     "output_type": "stream",
     "text": [
      "Writing template/slides_ver_1.md\n"
     ]
    }
   ],
   "source": [
    "%%file template/slides_ver_1.md\n",
    "## мини-печь StarWind\n",
    ":::::::::::::: {.columns}\n",
    "::: {.column }\n",
    "* вендор: StarWind\n",
    "* модель: Мини-печь smo2003\n",
    "* артикул: 13883932\n",
    "* цена: 5597\n",
    ":::\n",
    "::: {.column }\n",
    "\n",
    "![фото товара](13883932.png)\n",
    ":::\n",
    "::::::::::::::\n",
    "\n",
    "## Микроволновая печь соло 20MWS-711M/WS\n",
    ":::::::::::::: {.columns}\n",
    "::: {.column }\n",
    "* вендор: BBK\n",
    "* модель: Микроволновая печь соло 20MWS-711M/WS\n",
    "* артикул: 8483040\n",
    "* цена: 4173\n",
    ":::\n",
    "::: {.column }\n",
    "\n",
    "![фото товара](8483040.png)\n",
    ":::\n",
    "::::::::::::::"
   ]
  },
  {
   "cell_type": "code",
   "execution_count": 40,
   "id": "ad427afa-9baf-4ee8-b9b8-0f1322917a29",
   "metadata": {},
   "outputs": [
    {
     "name": "stdout",
     "output_type": "stream",
     "text": [
      "slides.html                  slides_v2.html\n",
      "slides.md                    slides_v2.md\n",
      "slides.pptx                  slides_v2.pptx\n",
      "slides_obrazec_ver_1.html    slides_ver1.html\n",
      "slides_obrazec_ver_1.pptx    ~$slides_obrazec_ver_1.pptx\n"
     ]
    }
   ],
   "source": [
    "%ls out"
   ]
  },
  {
   "cell_type": "code",
   "execution_count": 26,
   "id": "584534f4-4a91-416b-9987-f4694edcffed",
   "metadata": {},
   "outputs": [],
   "source": [
    "!pandoc -o out/slides_ver1.pptx  template/category_ver_1.md template/slides_ver_1.md"
   ]
  },
  {
   "cell_type": "code",
   "execution_count": 50,
   "id": "5dab4b53-c701-4543-8981-fbe875c661d0",
   "metadata": {},
   "outputs": [
    {
     "name": "stdout",
     "output_type": "stream",
     "text": [
      "out/slides_obrazec_ver_1.html\n"
     ]
    }
   ],
   "source": [
    "%ls \"out/slides_obrazec_ver_1.html\""
   ]
  },
  {
   "cell_type": "code",
   "execution_count": 52,
   "id": "49bf99d5-0866-4341-8c9f-1ca235e36444",
   "metadata": {},
   "outputs": [
    {
     "data": {
      "text/html": [
       "\n",
       "        <iframe\n",
       "            width=\"800\"\n",
       "            height=\"600\"\n",
       "            src=\"file:/out/slides_obrazec_ver_1.html?encoding=utf8\"\n",
       "            frameborder=\"0\"\n",
       "            allowfullscreen\n",
       "            \n",
       "        ></iframe>\n",
       "        "
      ],
      "text/plain": [
       "<IPython.lib.display.IFrame at 0x7fc35fb7bd90>"
      ]
     },
     "execution_count": 52,
     "metadata": {},
     "output_type": "execute_result"
    }
   ],
   "source": [
    "import os\n",
    "from IPython.display import IFrame\n",
    "IFrame(src=\"file:/out/slides_obrazec_ver_1.html\", width=800, height=600,encoding=\"utf8\")"
   ]
  },
  {
   "cell_type": "code",
   "execution_count": null,
   "id": "e627d4dc-db88-4da0-99ad-2b13117b4b2f",
   "metadata": {},
   "outputs": [],
   "source": []
  }
 ],
 "metadata": {
  "kernelspec": {
   "display_name": "Python 3 (ipykernel)",
   "language": "python",
   "name": "python3"
  },
  "language_info": {
   "codemirror_mode": {
    "name": "ipython",
    "version": 3
   },
   "file_extension": ".py",
   "mimetype": "text/x-python",
   "name": "python",
   "nbconvert_exporter": "python",
   "pygments_lexer": "ipython3",
   "version": "3.9.12"
  }
 },
 "nbformat": 4,
 "nbformat_minor": 5
}
