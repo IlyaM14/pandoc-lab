{
 "cells": [
  {
   "cell_type": "markdown",
   "id": "7a0723db",
   "metadata": {},
   "source": [
    "# Использование Jupyter notebook c Bash\n",
    "\n",
    "Удобство:\n",
    "\n",
    "* Инструкция [Jupyter](https://webdevblog.ru/jupyter-notebook-dlya-nachinajushhih-uchebnik/) для начинающих\n",
    "* Легкая публикация \\(например на anaconda.org\\)\n",
    "* Преобразование в документы  и презентации\n",
    "* Интерактивная работа\n",
    "* Добавление поясняющего текта с картинками и гиперссылками на языка [markdown](https://medium.com/analytics-vidhya/the-ultimate-markdown-guide-for-jupyter-notebook-d5e5abf728fd)\n",
    "\n"
   ]
  },
  {
   "cell_type": "markdown",
   "id": "7d55cd69-08b8-457d-b5af-27661d5331e9",
   "metadata": {},
   "source": [
    "### Установка \n",
    "\n",
    "Для установки  Jupyter нужен Python.\n",
    "\n",
    "\n",
    "Самый быстрый менеджер пакетов и окружний для работы с Python -- это [micromamba](https://mamba.readthedocs.io/en/latest/user_guide/micromamba.html)\n",
    "\n",
    "\n",
    "Потом в Python можно установить дополнительное ядро Calysto Bash для оболочки Jupyter\n",
    "\n",
    "```bash\n",
    "conda install -c conda-forge calysto_bash\n",
    "```\n",
    "\n",
    "или \n",
    "\n",
    "```bash\n",
    "mamba install -c conda-forge calysto_bash\n",
    "```\n",
    "* * *\n"
   ]
  },
  {
   "cell_type": "markdown",
   "id": "7561cda7",
   "metadata": {},
   "source": [
    "* * *\n",
    "\n",
    "# Advanced scripts\n",
    "\n",
    "## Functions\n",
    "\n",
    "Определение ф-ии:\n",
    "\n",
    "```bash\n",
    "function_name () {\n",
    "   ...\n",
    "   return 0  # exit this function\n",
    "   ...\n",
    "   exit 0    # exit current shell/scirpt\n",
    "}\n",
    "```\n",
    "или\n",
    "\n",
    "function function_name () {\n",
    "   ...\n",
    "}\n",
    "\n",
    "\n",
    "Список определенных в этом процессе оболочки ф-ий:\n",
    "\n",
    "```bash\n",
    "declare -f\n",
    "```\n",
    "\n",
    "Вызов ф-ии не отличает от вызова команды:\n",
    "\n",
    "```bash\n",
    "function_name arg1 arg2 \"arg 3\"\n",
    "```\n",
    "\n",
    "\n",
    "* * *"
   ]
  },
  {
   "cell_type": "code",
   "execution_count": 1,
   "id": "1c59e00e",
   "metadata": {},
   "outputs": [
    {
     "name": "stdout",
     "output_type": "stream",
     "text": [
      "\n"
     ]
    }
   ],
   "source": [
    "declare -f | head -20"
   ]
  },
  {
   "cell_type": "code",
   "execution_count": 2,
   "id": "fb5c30ef",
   "metadata": {},
   "outputs": [
    {
     "name": "stdout",
     "output_type": "stream",
     "text": [
      "\n"
     ]
    }
   ],
   "source": [
    "declare -f HIST"
   ]
  },
  {
   "cell_type": "markdown",
   "id": "8da4320f",
   "metadata": {},
   "source": [
    "* * * \n",
    "\n",
    "variable in functions\n",
    "\n",
    "* Global\n",
    "* Local\n",
    "\n",
    "Global vaiables:"
   ]
  },
  {
   "cell_type": "code",
   "execution_count": 3,
   "id": "e98758ad",
   "metadata": {},
   "outputs": [
    {
     "name": "stdout",
     "output_type": "stream",
     "text": [
      "\n"
     ]
    }
   ],
   "source": [
    "declare -i A=22\n",
    "declare -i B=33\n",
    "C=abc"
   ]
  },
  {
   "cell_type": "markdown",
   "id": "6d70bfb6",
   "metadata": {},
   "source": [
    "Locals"
   ]
  },
  {
   "cell_type": "code",
   "execution_count": 4,
   "id": "4e62cb64",
   "metadata": {},
   "outputs": [
    {
     "name": "stdout",
     "output_type": "stream",
     "text": [
      "\n"
     ]
    }
   ],
   "source": [
    "myfunc() {\n",
    "    local myresult='some value'\n",
    "    echo $myresult\n",
    "}"
   ]
  },
  {
   "cell_type": "code",
   "execution_count": 5,
   "id": "4fb4cca2",
   "metadata": {},
   "outputs": [
    {
     "name": "stdout",
     "output_type": "stream",
     "text": [
      "some value\n",
      "\n"
     ]
    }
   ],
   "source": [
    "myfunc 1 2 3"
   ]
  },
  {
   "cell_type": "code",
   "execution_count": 6,
   "id": "b6432a2c",
   "metadata": {},
   "outputs": [
    {
     "name": "stdout",
     "output_type": "stream",
     "text": [
      "\n",
      "\n"
     ]
    }
   ],
   "source": [
    "echo $myresult"
   ]
  },
  {
   "cell_type": "code",
   "execution_count": 7,
   "id": "375c82aa-1f89-47f5-9ad0-fc112a36fb9f",
   "metadata": {},
   "outputs": [
    {
     "name": "stdout",
     "output_type": "stream",
     "text": [
      "bash: declare: myresult: не найден\n",
      "\n"
     ]
    }
   ],
   "source": [
    "declare -p myresult"
   ]
  },
  {
   "cell_type": "code",
   "execution_count": 8,
   "id": "3066033d",
   "metadata": {},
   "outputs": [
    {
     "name": "stdout",
     "output_type": "stream",
     "text": [
      "\n"
     ]
    }
   ],
   "source": [
    "myfunc() {\n",
    "    local -i A=55\n",
    "    local C=123\n",
    "    local myresult='some value'\n",
    "    echo $myresult\n",
    "}"
   ]
  },
  {
   "cell_type": "code",
   "execution_count": 9,
   "id": "da2105ba",
   "metadata": {},
   "outputs": [
    {
     "name": "stdout",
     "output_type": "stream",
     "text": [
      "some value\n",
      "\n"
     ]
    }
   ],
   "source": [
    "myfunc"
   ]
  },
  {
   "cell_type": "code",
   "execution_count": 10,
   "id": "73998f20",
   "metadata": {},
   "outputs": [
    {
     "name": "stdout",
     "output_type": "stream",
     "text": [
      "abc\n",
      "\n"
     ]
    }
   ],
   "source": [
    "echo $C"
   ]
  },
  {
   "cell_type": "code",
   "execution_count": 11,
   "id": "aeeb9d83",
   "metadata": {},
   "outputs": [
    {
     "name": "stdout",
     "output_type": "stream",
     "text": [
      "\n"
     ]
    }
   ],
   "source": [
    "myfunc2() {\n",
    "    declare -i A=55\n",
    "    C=123\n",
    "    local myresult='some value'\n",
    "    echo $myresult\n",
    "}"
   ]
  },
  {
   "cell_type": "code",
   "execution_count": 12,
   "id": "8245b308",
   "metadata": {},
   "outputs": [
    {
     "name": "stdout",
     "output_type": "stream",
     "text": [
      "abc\n",
      "\n"
     ]
    }
   ],
   "source": [
    "echo $C"
   ]
  },
  {
   "cell_type": "code",
   "execution_count": 13,
   "id": "f3027171",
   "metadata": {},
   "outputs": [
    {
     "name": "stdout",
     "output_type": "stream",
     "text": [
      "some value\n",
      "\n"
     ]
    }
   ],
   "source": [
    "myfunc2"
   ]
  },
  {
   "cell_type": "code",
   "execution_count": 14,
   "id": "d3e4c4d1",
   "metadata": {},
   "outputs": [
    {
     "name": "stdout",
     "output_type": "stream",
     "text": [
      "123\n",
      "\n"
     ]
    }
   ],
   "source": [
    "echo $C"
   ]
  },
  {
   "cell_type": "code",
   "execution_count": 15,
   "id": "375c24f1",
   "metadata": {},
   "outputs": [
    {
     "name": "stdout",
     "output_type": "stream",
     "text": [
      "\n"
     ]
    }
   ],
   "source": [
    "function print_args() {\n",
    "    printf \"arg: %s\\n\" \"$@\"\n",
    "}"
   ]
  },
  {
   "cell_type": "code",
   "execution_count": 16,
   "id": "d2083bf7",
   "metadata": {},
   "outputs": [
    {
     "name": "stdout",
     "output_type": "stream",
     "text": [
      "arg: arg 1\n",
      "arg: arg2\n",
      "arg: 333\n",
      "arg: 4444\n",
      "\n"
     ]
    }
   ],
   "source": [
    "print_args \"arg 1\"  arg2 333  4444"
   ]
  },
  {
   "cell_type": "code",
   "execution_count": 17,
   "id": "a7a4279d",
   "metadata": {},
   "outputs": [
    {
     "name": "stdout",
     "output_type": "stream",
     "text": [
      "\n"
     ]
    }
   ],
   "source": [
    "set \"111  1111\"   222 333"
   ]
  },
  {
   "cell_type": "code",
   "execution_count": 18,
   "id": "d1cd30bb",
   "metadata": {},
   "outputs": [
    {
     "name": "stdout",
     "output_type": "stream",
     "text": [
      "111 1111\n",
      "\n"
     ]
    }
   ],
   "source": [
    "echo $1"
   ]
  },
  {
   "cell_type": "code",
   "execution_count": 19,
   "id": "c1fa2c8c",
   "metadata": {},
   "outputs": [
    {
     "name": "stdout",
     "output_type": "stream",
     "text": [
      "declare -x PATH=\"/Users/ikochergin/opt/anaconda3/bin:/Users/ikochergin/opt/anaconda3/condabin:/Library/Frameworks/Python.framework/Versions/2.7/bin:/usr/local/mysql/bin:/opt/local/bin:/opt/local/sbin:/opt/local/bin:/opt/local/sbin:/Users/ikochergin/bin:/usr/local/bin:/usr/bin:/bin:/usr/sbin:/sbin:/Applications/VMware Fusion.app/Contents/Public:/Library/TeX/texbin:/usr/local/share/dotnet:/opt/X11/bin:/Library/Apple/usr/bin:/Library/Frameworks/Mono.framework/Versions/Current/Commands:/Users/ikochergin/.rvm/bin:/Users/ikochergin/.rvm/bin:/:/Users/ikochergin/.rvm/bin:/opt/oracle/instantclient_19_8\"\n",
      "\n"
     ]
    }
   ],
   "source": [
    "declare -p PATH"
   ]
  },
  {
   "cell_type": "code",
   "execution_count": 20,
   "id": "e9a07905",
   "metadata": {},
   "outputs": [
    {
     "name": "stdout",
     "output_type": "stream",
     "text": [
      "\n"
     ]
    }
   ],
   "source": [
    "set arg{1..12}ый"
   ]
  },
  {
   "cell_type": "code",
   "execution_count": 21,
   "id": "f90da58c",
   "metadata": {},
   "outputs": [
    {
     "name": "stdout",
     "output_type": "stream",
     "text": [
      "arg1ый\n",
      "\n"
     ]
    }
   ],
   "source": [
    "echo $1"
   ]
  },
  {
   "cell_type": "code",
   "execution_count": 22,
   "id": "20c49f89",
   "metadata": {},
   "outputs": [
    {
     "name": "stdout",
     "output_type": "stream",
     "text": [
      "arg1ый2\n",
      "\n"
     ]
    }
   ],
   "source": [
    "echo $12"
   ]
  },
  {
   "cell_type": "code",
   "execution_count": 23,
   "id": "1278b7aa",
   "metadata": {},
   "outputs": [
    {
     "name": "stdout",
     "output_type": "stream",
     "text": [
      "arg12ый\n",
      "\n"
     ]
    }
   ],
   "source": [
    "echo ${12}"
   ]
  },
  {
   "cell_type": "markdown",
   "id": "d33fc068",
   "metadata": {},
   "source": [
    "# Array And Dictionaries\n",
    "\n",
    "См [примеры](https://github.com/Randy8080/reference/blob/main/bash.md) \n",
    "\n",
    "Метафора \n",
    "\n",
    "* array -- гардероб с крючками в диапазоне 0..N-1\n",
    "    - объявляется declare -a\n",
    "    - `array[index]`\n",
    "* associative array -- камера хранения с бирками на чемоданах\n",
    "    - объявляется declare -A\n",
    "    - `array[key]`\n"
   ]
  },
  {
   "cell_type": "markdown",
   "id": "c00b5246",
   "metadata": {},
   "source": [
    "Объявление ассоциативного массива:"
   ]
  },
  {
   "cell_type": "code",
   "execution_count": 24,
   "id": "6c814ba7",
   "metadata": {},
   "outputs": [
    {
     "name": "stdout",
     "output_type": "stream",
     "text": [
      "\n"
     ]
    }
   ],
   "source": [
    "declare -A DISCOUNT_DIC=( [BBK]=20 [Candy]=10) "
   ]
  },
  {
   "cell_type": "code",
   "execution_count": 25,
   "id": "84b214f3",
   "metadata": {},
   "outputs": [
    {
     "name": "stdout",
     "output_type": "stream",
     "text": [
      "\n"
     ]
    }
   ],
   "source": [
    "DISCOUNT_DIC[Adidas]=5"
   ]
  },
  {
   "cell_type": "markdown",
   "id": "670c4a63-9cca-48cf-b880-c1935281006d",
   "metadata": {},
   "source": [
    "`-p`  (print) -- инспекция переменных\n",
    "```bash\n",
    "declare -p VAR...\n",
    "```"
   ]
  },
  {
   "cell_type": "code",
   "execution_count": 26,
   "id": "09096cd0",
   "metadata": {},
   "outputs": [
    {
     "name": "stdout",
     "output_type": "stream",
     "text": [
      "declare -A DISCOUNT_DIC=([Adidas]=\"5\" [Candy]=\"10\" [BBK]=\"20\" )\n",
      "\n"
     ]
    }
   ],
   "source": [
    "declare -p DISCOUNT_DIC"
   ]
  },
  {
   "cell_type": "code",
   "execution_count": 27,
   "id": "a5bd971f",
   "metadata": {},
   "outputs": [
    {
     "name": "stdout",
     "output_type": "stream",
     "text": [
      "Adidas Candy BBK\n",
      "\n"
     ]
    }
   ],
   "source": [
    "echo \"${!DISCOUNT_DIC[@]}\""
   ]
  },
  {
   "cell_type": "code",
   "execution_count": 28,
   "id": "e8d6a9b6",
   "metadata": {},
   "outputs": [
    {
     "name": "stdout",
     "output_type": "stream",
     "text": [
      "5 10 20\n",
      "\n"
     ]
    }
   ],
   "source": [
    "echo \"${DISCOUNT_DIC[@]}\""
   ]
  },
  {
   "cell_type": "code",
   "execution_count": 29,
   "id": "ff630f5e",
   "metadata": {},
   "outputs": [
    {
     "name": "stdout",
     "output_type": "stream",
     "text": [
      "20\n",
      "\n"
     ]
    }
   ],
   "source": [
    "echo \"${DISCOUNT_DIC[BBK]}\""
   ]
  },
  {
   "cell_type": "code",
   "execution_count": 30,
   "id": "a00d340c",
   "metadata": {},
   "outputs": [
    {
     "name": "stdout",
     "output_type": "stream",
     "text": [
      "\n",
      "\n"
     ]
    }
   ],
   "source": [
    "echo \"${DISCOUNT_DIC[BBK1]}\""
   ]
  },
  {
   "cell_type": "code",
   "execution_count": 31,
   "id": "b52290cb",
   "metadata": {},
   "outputs": [
    {
     "name": "stdout",
     "output_type": "stream",
     "text": [
      "5 10 20\n",
      "\n"
     ]
    }
   ],
   "source": [
    "echo \"${DISCOUNT_DIC[*]}\""
   ]
  },
  {
   "cell_type": "code",
   "execution_count": 32,
   "id": "db2cbc2d",
   "metadata": {},
   "outputs": [
    {
     "name": "stdout",
     "output_type": "stream",
     "text": [
      "arg: 5 10 20\n",
      "\n"
     ]
    }
   ],
   "source": [
    "print_args \"${DISCOUNT_DIC[*]}\""
   ]
  },
  {
   "cell_type": "code",
   "execution_count": 33,
   "id": "ad05eaab",
   "metadata": {},
   "outputs": [
    {
     "name": "stdout",
     "output_type": "stream",
     "text": [
      "arg: 5\n",
      "arg: 10\n",
      "arg: 20\n",
      "\n"
     ]
    }
   ],
   "source": [
    "print_args \"${DISCOUNT_DIC[@]}\""
   ]
  },
  {
   "cell_type": "code",
   "execution_count": 34,
   "id": "ce26dfe7",
   "metadata": {},
   "outputs": [
    {
     "name": "stdout",
     "output_type": "stream",
     "text": [
      "arg: Adidas\n",
      "arg: Candy\n",
      "arg: BBK\n",
      "\n"
     ]
    }
   ],
   "source": [
    "print_args \"${!DISCOUNT_DIC[@]}\""
   ]
  },
  {
   "cell_type": "code",
   "execution_count": 35,
   "id": "d2411291",
   "metadata": {},
   "outputs": [
    {
     "name": "stdout",
     "output_type": "stream",
     "text": [
      "arg: 3\n",
      "\n"
     ]
    }
   ],
   "source": [
    "print_args \"${#DISCOUNT_DIC[@]}\""
   ]
  },
  {
   "cell_type": "code",
   "execution_count": 36,
   "id": "b902c2a6",
   "metadata": {},
   "outputs": [
    {
     "name": "stdout",
     "output_type": "stream",
     "text": [
      "\n"
     ]
    }
   ],
   "source": [
    "declare -a category=(other \"Климатическая техника\" \"Красота и здоровье\" \"Садовая техника\" \"Техника для дома\" \"Техника для кухни\" \"Крупная бытовая техника\" )"
   ]
  },
  {
   "cell_type": "code",
   "execution_count": 37,
   "id": "5719c6c3-28d9-45ea-9af3-d7032b156203",
   "metadata": {},
   "outputs": [
    {
     "name": "stdout",
     "output_type": "stream",
     "text": [
      "declare -a category=([0]=\"other\" [1]=\"Климатическая техника\" [2]=\"Красота и здоровье\" [3]=\"Садовая техника\" [4]=\"Техника для дома\" [5]=\"Техника для кухни\" [6]=\"Крупная бытовая техника\")\n",
      "\n"
     ]
    }
   ],
   "source": [
    "declare -p category"
   ]
  },
  {
   "cell_type": "code",
   "execution_count": 38,
   "id": "1df3e48b",
   "metadata": {},
   "outputs": [
    {
     "name": "stdout",
     "output_type": "stream",
     "text": [
      "other\n",
      "\n"
     ]
    }
   ],
   "source": [
    "echo ${category[0]}"
   ]
  },
  {
   "cell_type": "code",
   "execution_count": 39,
   "id": "126b58e2",
   "metadata": {},
   "outputs": [
    {
     "name": "stdout",
     "output_type": "stream",
     "text": [
      "Садовая техника Техника для дома Техника для кухни Крупная бытовая техника\n",
      "\n"
     ]
    }
   ],
   "source": [
    "echo ${category[@]:3}"
   ]
  },
  {
   "cell_type": "code",
   "execution_count": 40,
   "id": "15a2923c",
   "metadata": {
    "scrolled": true
   },
   "outputs": [
    {
     "name": "stdout",
     "output_type": "stream",
     "text": [
      "other Климатическая техника Красота и здоровье\n",
      "\n"
     ]
    }
   ],
   "source": [
    "echo ${category[@]:0:3}"
   ]
  },
  {
   "cell_type": "code",
   "execution_count": 41,
   "id": "53666c5b-0585-4211-be0d-f9809ea3a8f8",
   "metadata": {
    "scrolled": true
   },
   "outputs": [
    {
     "name": "stdout",
     "output_type": "stream",
     "text": [
      "Климатическая техника Красота и здоровье Садовая техника\n",
      "\n"
     ]
    }
   ],
   "source": [
    "echo ${category[@]:1:3}"
   ]
  },
  {
   "cell_type": "code",
   "execution_count": 42,
   "id": "9c569a5e",
   "metadata": {},
   "outputs": [
    {
     "name": "stdout",
     "output_type": "stream",
     "text": [
      "\n"
     ]
    }
   ],
   "source": [
    "# git clone https://github.com/koch-econ/pandoc-lab"
   ]
  },
  {
   "cell_type": "code",
   "execution_count": 43,
   "id": "65d3a9da",
   "metadata": {},
   "outputs": [
    {
     "name": "stdout",
     "output_type": "stream",
     "text": [
      "produid;vendor;model;price;category\n",
      "13883932;StarWind;Мини-печь smo2003;5597;5\n",
      "8483040;BBK;Микроволновая печь соло 20MWS-711M/WS;4173;5\n",
      "65374769;ATLANT;Холодильник Минск ХМ 4012 022;30000;6\n",
      "70598275;Candy;Стиральная машина CS4 1061DB1/2-07;22941;6\n",
      "\n"
     ]
    }
   ],
   "source": [
    "head -5 ../csv/wb_wo_dquotes.csv"
   ]
  },
  {
   "cell_type": "code",
   "execution_count": 45,
   "id": "459fe77b-e4f4-4676-a383-7fcef06ce043",
   "metadata": {},
   "outputs": [
    {
     "name": "stdout",
     "output_type": "stream",
     "text": [
      "\n"
     ]
    }
   ],
   "source": [
    "export PIC_DIR=../pic OUT_DIR=../out CSV_DIR=../csv"
   ]
  },
  {
   "cell_type": "code",
   "execution_count": 87,
   "id": "751d928f-cd96-4f1b-a823-3cd5befbf4dd",
   "metadata": {},
   "outputs": [],
   "source": [
    "%%python\n",
    "PIC_DIR=\"../pic\"; OUT_DIR=\"../out\"; CSV_DIR=\"../csv\""
   ]
  },
  {
   "cell_type": "code",
   "execution_count": 46,
   "id": "78aaf90a-3a1e-41a3-a25f-67c75849f0f0",
   "metadata": {},
   "outputs": [
    {
     "name": "stdout",
     "output_type": "stream",
     "text": [
      "\n"
     ]
    }
   ],
   "source": [
    "IFS=';'\n",
    "while read PARTNO VENDOR MODEL PRICE CATEGORY\n",
    "do  \n",
    "\t[ \"$MODEL\" = \"model\" ] && continue\n",
    "\tcat <<-EOF\n",
    "\t## ${MODEL}\n",
    "\t:::::::::::::: {.columns}\n",
    "\t::: {.column }\n",
    "\t* вендор: ${VENDOR}\n",
    "\t* модель: ${MODEL}\n",
    "\t* артикул: ${PARTNO} \n",
    "\t* цена: ${PRICE}\n",
    "\t:::\n",
    "\t::: {.column }\n",
    "\t\n",
    "\t![фото товара](${PIC_DIR}/${PARTNO}.png){width=120px }\n",
    "\t:::\n",
    "\t::::::::::::::\n",
    "\t    \n",
    "\t* * *    \n",
    "\tEOF\n",
    "done < ${CSV_DIR}/wb_wo_dquotes.csv >${OUT_DIR}/slides.md"
   ]
  },
  {
   "cell_type": "code",
   "execution_count": 47,
   "id": "e90adc2c",
   "metadata": {
    "scrolled": true
   },
   "outputs": [
    {
     "name": "stdout",
     "output_type": "stream",
     "text": [
      "## Мини-печь smo2003\n",
      ":::::::::::::: {.columns}\n",
      "::: {.column }\n",
      "* вендор: StarWind\n",
      "* модель: Мини-печь smo2003\n",
      "* артикул: 13883932 \n",
      "* цена: 5597\n",
      ":::\n",
      "::: {.column }\n",
      "\n",
      "![фото товара](../pic/13883932.png){width=120px }\n",
      ":::\n",
      "::::::::::::::\n",
      "    \n",
      "* * *    \n",
      "## Микроволновая печь соло 20MWS-711M/WS\n",
      ":::::::::::::: {.columns}\n",
      "::: {.column }\n",
      "* вендор: BBK\n",
      "* модель: Микроволновая печь соло 20MWS-711M/WS\n",
      "* артикул: 8483040 \n",
      "* цена: 4173\n",
      ":::\n",
      "::: {.column }\n",
      "\n",
      "![фото товара](../pic/8483040.png){width=120px }\n",
      ":::\n",
      "::::::::::::::\n",
      "    \n",
      "* * *    \n",
      "## Холодильник Минск ХМ 4012 022\n",
      ":::::::::::::: {.columns}\n",
      "::: {.column }\n",
      "* вендор: ATLANT\n",
      "* модель: Холодильник Минск ХМ 4012 022\n",
      "* артикул: 65374769 \n",
      "* цена: 30000\n",
      ":::\n",
      "::: {.column }\n",
      "\n",
      "![фото товара](../pic/65374769.png){width=120px }\n",
      ":::\n",
      "::::::::::::::\n",
      "    \n",
      "* * *    \n",
      "## Стиральная машина CS4 1061DB1/2-07\n",
      ":::::::::::::: {.columns}\n",
      "::: {.column }\n",
      "* вендор: Candy\n",
      "* модель: Стиральная машина CS4 1061DB1/2-07\n",
      "* артикул: 70598275 \n",
      "* цена: 22941\n",
      ":::\n",
      "::: {.column }\n",
      "\n",
      "![фото товара](../pic/70598275.png){width=120px }\n",
      ":::\n",
      "::::::::::::::\n",
      "    \n",
      "* * *    \n",
      "\n"
     ]
    }
   ],
   "source": [
    "cat ../out/slides.md"
   ]
  },
  {
   "cell_type": "markdown",
   "id": "35a56e5c",
   "metadata": {},
   "source": [
    "Старые версии pandoc не поддерживали многостолбцовые слайды"
   ]
  },
  {
   "cell_type": "code",
   "execution_count": 48,
   "id": "25694ec1",
   "metadata": {},
   "outputs": [
    {
     "name": "stdout",
     "output_type": "stream",
     "text": [
      "pandoc 2.17.1.1\n",
      "Compiled with pandoc-types 1.22.1, texmath 0.12.4, skylighting 0.12.2,\n",
      "citeproc 0.6.0.1, ipynb 0.2\n",
      "User data directory: /Users/ikochergin/.local/share/pandoc\n",
      "Copyright (C) 2006-2022 John MacFarlane. Web:  https://pandoc.org\n",
      "This is free software; see the source for copying conditions. There is no\n",
      "warranty, not even for merchantability or fitness for a particular purpose.\n",
      "\n"
     ]
    }
   ],
   "source": [
    "pandoc -v"
   ]
  },
  {
   "cell_type": "code",
   "execution_count": 49,
   "id": "823b4c70",
   "metadata": {
    "scrolled": true
   },
   "outputs": [
    {
     "name": "stdout",
     "output_type": "stream",
     "text": [
      "\n"
     ]
    }
   ],
   "source": [
    "pandoc \"${OUT_DIR}/slides.md\" -o \"${OUT_DIR}/slides.pptx\""
   ]
  },
  {
   "cell_type": "code",
   "execution_count": 50,
   "id": "13f0dc5f",
   "metadata": {
    "scrolled": true,
    "tags": []
   },
   "outputs": [
    {
     "name": "stdout",
     "output_type": "stream",
     "text": [
      "\n"
     ]
    }
   ],
   "source": [
    "pandoc --self-contained --metadata pagetitle=\"товары на WB\" \\\n",
    "\"${OUT_DIR}/slides.md\" \\\n",
    "-o \"${OUT_DIR}/slides.html\" "
   ]
  },
  {
   "cell_type": "code",
   "execution_count": 51,
   "id": "5bbe4aca",
   "metadata": {
    "scrolled": true
   },
   "outputs": [
    {
     "name": "stdout",
     "output_type": "stream",
     "text": [
      "../out/slides.html ../out/slides.md ../out/slides.pptx\n",
      "\n"
     ]
    }
   ],
   "source": [
    "echo ${OUT_DIR}/slides.*"
   ]
  },
  {
   "cell_type": "code",
   "execution_count": 88,
   "id": "381f5310",
   "metadata": {
    "scrolled": true
   },
   "outputs": [
    {
     "data": {
      "text/html": [
       "\n",
       "        <iframe\n",
       "            width=\"800\"\n",
       "            height=\"600\"\n",
       "            src=\"../out/slides.html\"\n",
       "            frameborder=\"0\"\n",
       "            allowfullscreen\n",
       "            \n",
       "        ></iframe>\n",
       "        "
      ],
      "text/plain": [
       "<IPython.lib.display.IFrame object at 0x7f8c89fc27f0>"
      ]
     },
     "execution_count": 88,
     "metadata": {},
     "output_type": "execute_result"
    }
   ],
   "source": [
    "%%python\n",
    "from IPython.display import IFrame\n",
    "IFrame(src=f'{OUT_DIR}/slides.html', width=800, height=600)"
   ]
  },
  {
   "cell_type": "code",
   "execution_count": 53,
   "id": "f78380ea",
   "metadata": {
    "scrolled": true
   },
   "outputs": [
    {
     "name": "stdout",
     "output_type": "stream",
     "text": [
      "wb.csv\t\t\twb_dquotes.csv\t\twb_wo_dquotes.csv\n",
      "\n"
     ]
    }
   ],
   "source": [
    "ls $CSV_DIR/"
   ]
  },
  {
   "cell_type": "code",
   "execution_count": 54,
   "id": "d87f9b70-21a6-461e-88c9-48640a83df5f",
   "metadata": {},
   "outputs": [
    {
     "name": "stdout",
     "output_type": "stream",
     "text": [
      "produid;vendor;model;price;category\n",
      "13883932;StarWind;Мини-печь smo2003;5597;5\n",
      "8483040;BBK;Микроволновая печь соло 20MWS-711M/WS;4173;5\n",
      "65374769;ATLANT;Холодильник Минск ХМ 4012 022;30000;6\n",
      "70598275;Candy;Стиральная машина CS4 1061DB1/2-07;22941;6\n",
      "\n"
     ]
    }
   ],
   "source": [
    "cat $CSV_DIR/wb_wo_dquotes.csv"
   ]
  },
  {
   "cell_type": "code",
   "execution_count": 55,
   "id": "39f138cd-f47c-43ee-ad78-b7c4ce769504",
   "metadata": {},
   "outputs": [
    {
     "name": "stdout",
     "output_type": "stream",
     "text": [
      "\"produid\";\"vendor\";\"model\";\"price\";\"category\"\n",
      "13883932;\"StarWind\";\"Мини-печь smo2003\";5597;5\n",
      "8483040;\"BBK\";\"Микроволновая печь соло 20MWS-711M/WS\";4173;5\n",
      "65374769;\"ATLANT\";\"Холодильник Минск ХМ 4012 022\";30000;6\n",
      "70598275;\"Candy\";\"Стиральная машина CS4 1061DB1/2-07\";22941;6\n",
      "\n"
     ]
    }
   ],
   "source": [
    "cat $CSV_DIR/wb.csv"
   ]
  },
  {
   "cell_type": "code",
   "execution_count": 56,
   "id": "171b739c",
   "metadata": {
    "scrolled": true
   },
   "outputs": [
    {
     "name": "stdout",
     "output_type": "stream",
     "text": [
      "Крупная бытовая техника\n",
      "\n"
     ]
    }
   ],
   "source": [
    "CATEGORY=6\n",
    "CATEGORY_TXT=\"${category[$CATEGORY]}\"\n",
    "echo $CATEGORY_TXT"
   ]
  },
  {
   "cell_type": "code",
   "execution_count": 57,
   "id": "e496f2ff",
   "metadata": {},
   "outputs": [
    {
     "name": "stdout",
     "output_type": "stream",
     "text": [
      "10\n",
      "\n"
     ]
    }
   ],
   "source": [
    "\n",
    "VENDOR=Candy\n",
    "DISCOUNT=\"${DISCOUNT_DIC[$VENDOR]}\"\n",
    "\n",
    "echo $DISCOUNT"
   ]
  },
  {
   "cell_type": "markdown",
   "id": "0037efbc",
   "metadata": {},
   "source": [
    "### Отступление про спецсимволы\n",
    "\n",
    "Строка со специальными символами `$'1\\t2\\r\\n3\\n\\t4'`\n",
    "\n",
    "Символы \\b и т.п. интерпретируются во время чтения `$-`строки, а не командой echo, как в примере:"
   ]
  },
  {
   "cell_type": "code",
   "execution_count": 58,
   "id": "ad54ae67",
   "metadata": {
    "scrolled": true
   },
   "outputs": [
    {
     "name": "stdout",
     "output_type": "stream",
     "text": [
      "1\t2\n",
      "3\n",
      "\t4\n",
      "\n"
     ]
    }
   ],
   "source": [
    "echo -e '1\\t2\\r\\n3\\n\\t4'"
   ]
  },
  {
   "cell_type": "code",
   "execution_count": 59,
   "id": "5006c807",
   "metadata": {},
   "outputs": [
    {
     "name": "stdout",
     "output_type": "stream",
     "text": [
      "1\\t2\\r\\n3\\n\\t4\n",
      "\n"
     ]
    }
   ],
   "source": [
    "echo '1\\t2\\r\\n3\\n\\t4'"
   ]
  },
  {
   "cell_type": "code",
   "execution_count": 60,
   "id": "a265cae3",
   "metadata": {},
   "outputs": [
    {
     "name": "stdout",
     "output_type": "stream",
     "text": [
      "1\t2\n",
      "3\n",
      "\t4\n",
      "\n"
     ]
    }
   ],
   "source": [
    "echo $'1\\t2\\r\\n3\\n\\t4'"
   ]
  },
  {
   "cell_type": "markdown",
   "id": "7f7be13d",
   "metadata": {},
   "source": [
    "### Очистка строки перед конвертацией в число"
   ]
  },
  {
   "cell_type": "markdown",
   "id": "ba9d0e9a",
   "metadata": {},
   "source": [
    "Из аргуметов ф-ии удаляем все кроме символов +- и цифр "
   ]
  },
  {
   "cell_type": "code",
   "execution_count": 61,
   "id": "3065934e",
   "metadata": {},
   "outputs": [
    {
     "name": "stdout",
     "output_type": "stream",
     "text": [
      "\n"
     ]
    }
   ],
   "source": [
    "function clean_num() { \n",
    "    tr -dc -- '-+[:digit:]'<<<\"${*}\" \n",
    "}"
   ]
  },
  {
   "cell_type": "code",
   "execution_count": 62,
   "id": "31b2122f",
   "metadata": {},
   "outputs": [
    {
     "name": "stdout",
     "output_type": "stream",
     "text": [
      "2345\n"
     ]
    }
   ],
   "source": [
    "clean_num $'23\\r\\v\\v\\f45' "
   ]
  },
  {
   "cell_type": "code",
   "execution_count": 63,
   "id": "6d5a3f44-f003-4220-895e-9a97b4a9d5e2",
   "metadata": {},
   "outputs": [
    {
     "name": "stdout",
     "output_type": "stream",
     "text": [
      "\n"
     ]
    }
   ],
   "source": [
    "declare -i _LAST_RETURN_I\n",
    "\n",
    "function clean_num_ri() { \n",
    "    _LAST_RETURN_I=\"${*//[!0-9+-]/}\" \n",
    "}"
   ]
  },
  {
   "cell_type": "code",
   "execution_count": 64,
   "id": "b93b261a-ebf7-4866-8b17-1991684a70d3",
   "metadata": {},
   "outputs": [
    {
     "name": "stdout",
     "output_type": "stream",
     "text": [
      "declare -i _LAST_RETURN_I=\"2345\"\n",
      "\n"
     ]
    }
   ],
   "source": [
    "clean_num_ri $'23\\r\\v\\v\\f45' \n",
    "declare -p _LAST_RETURN_I"
   ]
  },
  {
   "cell_type": "code",
   "execution_count": 65,
   "id": "c0827929",
   "metadata": {},
   "outputs": [
    {
     "name": "stdout",
     "output_type": "stream",
     "text": [
      "\n"
     ]
    }
   ],
   "source": [
    "IFS=';'\n",
    "while read PARTNO VENDOR MODEL PRICE CATEGORY_NUM\n",
    "do  \n",
    "\t[ \"$MODEL\" = \"model\" ] && continue\n",
    "    clean_num_ri \"$CATEGORY_NUM\" # sets variable _LAST_RETURN_I\n",
    "\tCATEGORY_TXT=\"${category[\"$_LAST_RETURN_I\"]}\" \n",
    "\tDISCOUNT=\"${DISCOUNT_DIC[$VENDOR]}\" \n",
    "\t((DISCOUNTED_PRICE=PRICE+DISCOUNT*PRICE/100))     \n",
    "\tcat <<-EOF\n",
    "\t## ${MODEL}\n",
    "\t:::::::::::::: {.columns}\n",
    "\t::: {.column }\n",
    "\t* категория: ${CATEGORY_TXT}    \n",
    "\t* вендор: ${VENDOR}\n",
    "\t* модель: ${MODEL}\n",
    "\t* артикул: ${PARTNO} \n",
    "\t* окончательная цена: ${DISCOUNTED_PRICE}\n",
    "\t* скидка\\\n",
    "\t  по акции: ${DISCOUNT:-0}%\n",
    "\t:::\n",
    "\t::: {.column }\n",
    "\t![фото товара](${PIC_DIR}/${PARTNO}.png){height=120px}\n",
    "\t:::\n",
    "\t::::::::::::::\n",
    "\t* * *\n",
    "\tEOF\n",
    "done < ${CSV_DIR}/wb_wo_dquotes.csv >${OUT_DIR}/slides_v2.md"
   ]
  },
  {
   "cell_type": "code",
   "execution_count": 66,
   "id": "55eaaf57-94c6-4bd8-904b-b244b040abaa",
   "metadata": {},
   "outputs": [
    {
     "name": "stdout",
     "output_type": "stream",
     "text": [
      "## Мини-печь smo2003\n",
      ":::::::::::::: {.columns}\n",
      "::: {.column }\n",
      "* категория: Техника для кухни    \n",
      "* вендор: StarWind\n",
      "* модель: Мини-печь smo2003\n",
      "* артикул: 13883932 \n",
      "* окончательная цена: 5597\n",
      "* скидка  по акции: 0%\n",
      ":::\n",
      "::: {.column }\n",
      "![фото товара](../pic/13883932.png){height=120px}\n",
      ":::\n",
      "::::::::::::::\n",
      "* * *\n",
      "## Микроволновая печь соло 20MWS-711M/WS\n",
      ":::::::::::::: {.columns}\n",
      "::: {.column }\n",
      "* категория: Техника для кухни    \n",
      "* вендор: BBK\n",
      "* модель: Микроволновая печь соло 20MWS-711M/WS\n",
      "* артикул: 8483040 \n",
      "* окончательная цена: 5007\n",
      "* скидка  по акции: 20%\n",
      ":::\n",
      "::: {.column }\n",
      "![фото товара](../pic/8483040.png){height=120px}\n",
      ":::\n",
      "::::::::::::::\n",
      "* * *\n",
      "## Холодильник Минск ХМ 4012 022\n",
      ":::::::::::::: {.columns}\n",
      "::: {.column }\n",
      "* категория: Крупная бытовая техника    \n",
      "* вендор: ATLANT\n",
      "* модель: Холодильник Минск ХМ 4012 022\n",
      "* артикул: 65374769 \n",
      "* окончательная цена: 30000\n",
      "* скидка  по акции: 0%\n",
      ":::\n",
      "\n"
     ]
    }
   ],
   "source": [
    "head -40 ${OUT_DIR}/slides_v2.md"
   ]
  },
  {
   "cell_type": "code",
   "execution_count": 67,
   "id": "3ebd2db1-1f9f-41e2-9e4e-f1d553d7dbaa",
   "metadata": {
    "scrolled": true,
    "tags": []
   },
   "outputs": [
    {
     "name": "stdout",
     "output_type": "stream",
     "text": [
      "\n"
     ]
    }
   ],
   "source": [
    "pandoc --self-contained \\\n",
    "--metadata pagetitle=\"товары на WB\" \\\n",
    "${OUT_DIR}/slides_v2.md -o ${OUT_DIR}/slides_v2.html"
   ]
  },
  {
   "cell_type": "code",
   "execution_count": 89,
   "id": "b12a90ec-cfa6-430a-99e0-e561dc562669",
   "metadata": {
    "scrolled": true
   },
   "outputs": [
    {
     "data": {
      "text/html": [
       "\n",
       "        <iframe\n",
       "            width=\"800\"\n",
       "            height=\"600\"\n",
       "            src=\"../out/slides_v2.html\"\n",
       "            frameborder=\"0\"\n",
       "            allowfullscreen\n",
       "            \n",
       "        ></iframe>\n",
       "        "
      ],
      "text/plain": [
       "<IPython.lib.display.IFrame object at 0x7f8c89fc2790>"
      ]
     },
     "execution_count": 89,
     "metadata": {},
     "output_type": "execute_result"
    }
   ],
   "source": [
    "%%python\n",
    "from IPython.display import IFrame\n",
    "IFrame(src=f'{OUT_DIR}/slides_v2.html', width=800, height=600)"
   ]
  },
  {
   "cell_type": "markdown",
   "id": "cd4ed09b-9393-4461-9722-fcabf63a36a0",
   "metadata": {},
   "source": [
    "### Чтение массива из файла"
   ]
  },
  {
   "cell_type": "code",
   "execution_count": 74,
   "id": "6b649351",
   "metadata": {
    "scrolled": true
   },
   "outputs": [
    {
     "name": "stdout",
     "output_type": "stream",
     "text": [
      "Created file '/Users/ikochergin/Documents/aon/shell_prg/pandoc-lab/sh/cat.txt'.\n"
     ]
    }
   ],
   "source": [
    "%%file cat.txt\n",
    "Прочее\n",
    "Климатическая техника\n",
    "Красота и здоровье\n",
    "Садовая техника\n",
    "Техника для дома\n",
    "Техника для кухни\n",
    "Крупная бытовая техника"
   ]
  },
  {
   "cell_type": "markdown",
   "id": "b8392e15",
   "metadata": {},
   "source": [
    "[рецепт](https://stackoverflow.com/questions/11393817/read-lines-from-a-file-into-a-bash-array)"
   ]
  },
  {
   "cell_type": "code",
   "execution_count": 75,
   "id": "63051185",
   "metadata": {},
   "outputs": [
    {
     "name": "stdout",
     "output_type": "stream",
     "text": [
      "\n"
     ]
    }
   ],
   "source": [
    "readarray -t category_arr < cat.txt"
   ]
  },
  {
   "cell_type": "markdown",
   "id": "6b9a24c3",
   "metadata": {},
   "source": [
    "Инспектируем массив"
   ]
  },
  {
   "cell_type": "code",
   "execution_count": 76,
   "id": "0b59964f",
   "metadata": {},
   "outputs": [
    {
     "name": "stdout",
     "output_type": "stream",
     "text": [
      "declare -a category_arr=([0]=\"Прочее\" [1]=\"Климатическая техника\" [2]=\"Красота и здоровье\" [3]=\"Садовая техника\" [4]=\"Техника для дома\" [5]=\"Техника для кухни\" [6]=\"Крупная бытовая техника\")\n",
      "\n"
     ]
    }
   ],
   "source": [
    "declare -p category_arr"
   ]
  },
  {
   "cell_type": "code",
   "execution_count": 77,
   "id": "d6a0dd3b",
   "metadata": {},
   "outputs": [
    {
     "name": "stdout",
     "output_type": "stream",
     "text": [
      "Created file '/Users/ikochergin/Documents/aon/shell_prg/pandoc-lab/sh/addr.txt'.\n"
     ]
    }
   ],
   "source": [
    "%%file addr.txt\n",
    "50 Cactus Freeway, Phoenix, AZ\n",
    "777 5th Ave, New York, NY\n",
    "50 Market Blvd, Oakland, CA\n",
    "505 Nord Freeway, Phoenix, AZ\n",
    "57 New St., Oakland, CA"
   ]
  },
  {
   "cell_type": "code",
   "execution_count": 83,
   "id": "ec29025a",
   "metadata": {},
   "outputs": [
    {
     "name": "stdout",
     "output_type": "stream",
     "text": [
      "50 Cactus Freeway, Phoenix, AZ\n",
      "777 5th Ave, New York, NY\n",
      "50 Market Blvd, Oakland, CA\n",
      "\n"
     ]
    }
   ],
   "source": [
    "sed -n -e '1,3p' < addr.txt"
   ]
  },
  {
   "cell_type": "code",
   "execution_count": 79,
   "id": "180286d2",
   "metadata": {
    "scrolled": true
   },
   "outputs": [
    {
     "name": "stdout",
     "output_type": "stream",
     "text": [
      "\u001b[48;5;8m\u001b[24m cheat.sheets:sed \u001b[24m\u001b[0m\n",
      "\u001b[38;5;246;03m# sed\u001b[39;00m\n",
      "\u001b[38;5;246;03m# A stream editor. Used to perform basic text transformations\u001b[39;00m\n",
      "\n",
      "\u001b[38;5;246;03m# Preview a file edit, via substitution.\u001b[39;00m\n",
      "\u001b[38;5;252msudo\u001b[39m\u001b[38;5;252m \u001b[39m\u001b[38;5;252msed\u001b[39m\u001b[38;5;252m \u001b[39m\u001b[38;5;214m's/Name=Xfce Session/Name=Xfce_Session/'\u001b[39m\u001b[38;5;252m \u001b[39m\u001b[38;5;252mFILE\u001b[39m\n",
      "\n",
      "\u001b[38;5;246;03m# Replace the same string more than once per line (g flag)\u001b[39;00m\n",
      "\u001b[38;5;252msudo\u001b[39m\u001b[38;5;252m \u001b[39m\u001b[38;5;252msed\u001b[39m\u001b[38;5;252m \u001b[39m\u001b[38;5;214m's/Name=Xfce Session/Name=Xfce_Session/g'\u001b[39m\u001b[38;5;252m \u001b[39m\u001b[38;5;252mFILE\u001b[39m\n",
      "\n",
      "\u001b[38;5;246;03m# Edit a file (adding -i flag), in-place; changes are made to the file(s).\u001b[39;00m\n",
      "\u001b[38;5;252msudo\u001b[39m\u001b[38;5;252m \u001b[39m\u001b[38;5;252msed\u001b[39m\u001b[38;5;252m \u001b[39m\u001b[38;5;252m-i\u001b[39m\u001b[38;5;252m \u001b[39m\u001b[38;5;214m's/Name=Xfce Session/Name=Xfce_Session/'\u001b[39m\u001b[38;5;252m \u001b[39m\u001b[38;5;252mFILE\u001b[39m\n",
      "\n",
      "\u001b[38;5;246;03m# It can become necessary to escape special characters in your string.\u001b[39;00m\n",
      "\u001b[38;5;252msed\u001b[39m\u001b[38;5;252m \u001b[39m\u001b[38;5;252m-i\u001b[39m\u001b[38;5;252m \u001b[39m\u001b[38;5;214m's/\\/path\\/to\\/somewhere\\//\\/path\\/to\\/anotherplace\\//'\u001b[39m\u001b[38;5;252m \u001b[39m\u001b[38;5;252mFILE\u001b[39m\n",
      "\n",
      "\u001b[38;5;246;03m# Change your sed delimiter to a pipe to avoid escaping slashes.\u001b[39;00m\n",
      "\u001b[38;5;252msed\u001b[39m\u001b[38;5;252m \u001b[39m\u001b[38;5;252m-i\u001b[39m\u001b[38;5;252m \u001b[39m\u001b[38;5;214m's|/path/to/somewhere/|/path/to/anotherplace/|'\u001b[39m\u001b[38;5;252m \u001b[39m\u001b[38;5;252mFILE\u001b[39m\n",
      "\n",
      "\u001b[48;5;8m\u001b[24m cheat:sed \u001b[24m\u001b[0m\n",
      "\u001b[38;5;246;03m# To replace all occurrences of \"day\" with \"night\" and write to stdout:\u001b[39;00m\n",
      "\u001b[38;5;252msed\u001b[39m\u001b[38;5;252m \u001b[39m\u001b[38;5;214m's/day/night/g'\u001b[39m\u001b[38;5;252m \u001b[39m\u001b[38;5;252m<\u001b[39m\u001b[38;5;252mfile>\u001b[39m\n",
      "\n",
      "\u001b[38;5;246;03m# To replace all occurrences of \"day\" with \"night\" within <file>:\u001b[39;00m\n",
      "\u001b[38;5;252msed\u001b[39m\u001b[38;5;252m \u001b[39m\u001b[38;5;252m-i\u001b[39m\u001b[38;5;252m \u001b[39m\u001b[38;5;214m's/day/night/g'\u001b[39m\u001b[38;5;252m \u001b[39m\u001b[38;5;252m<\u001b[39m\u001b[38;5;252mfile>\u001b[39m\n",
      "\n",
      "\u001b[38;5;246;03m# To replace all occurrences of \"day\" with \"night\" on stdin:\u001b[39;00m\n",
      "\u001b[38;5;31mecho\u001b[39m\u001b[38;5;252m \u001b[39m\u001b[38;5;214m'It is daytime'\u001b[39m\u001b[38;5;252m \u001b[39m\u001b[38;5;252m|\u001b[39m\u001b[38;5;252m \u001b[39m\u001b[38;5;252msed\u001b[39m\u001b[38;5;252m \u001b[39m\u001b[38;5;214m's/day/night/g'\u001b[39m\n",
      "\n",
      "\u001b[38;5;246;03m# To remove leading spaces:\u001b[39;00m\n",
      "\u001b[38;5;252msed\u001b[39m\u001b[38;5;252m \u001b[39m\u001b[38;5;252m-i\u001b[39m\u001b[38;5;252m \u001b[39m\u001b[38;5;252m-r\u001b[39m\u001b[38;5;252m \u001b[39m\u001b[38;5;214m's/^\\s+//g'\u001b[39m\u001b[38;5;252m \u001b[39m\u001b[38;5;252m<\u001b[39m\u001b[38;5;252mfile>\u001b[39m\n",
      "\n",
      "\u001b[38;5;246;03m# To remove empty lines and print results to stdout:\u001b[39;00m\n",
      "\u001b[38;5;252msed\u001b[39m\u001b[38;5;252m \u001b[39m\u001b[38;5;214m'/^$/d'\u001b[39m\u001b[38;5;252m \u001b[39m\u001b[38;5;252m<\u001b[39m\u001b[38;5;252mfile>\u001b[39m\n",
      "\n",
      "\u001b[38;5;246;03m# To replace newlines in multiple lines:\u001b[39;00m\n",
      "\u001b[38;5;252msed\u001b[39m\u001b[38;5;252m \u001b[39m\u001b[38;5;214m':a;N;$!ba;s/\\n//g'\u001b[39m\u001b[38;5;252m \u001b[39m\u001b[38;5;252m<\u001b[39m\u001b[38;5;252mfile>\u001b[39m\n",
      "\n",
      "\u001b[38;5;246;03m# To insert a line before a matching pattern:\u001b[39;00m\n",
      "\u001b[38;5;252msed\u001b[39m\u001b[38;5;252m \u001b[39m\u001b[38;5;214m'/Once upon a time/i\\Chapter 1'\u001b[39m\n",
      "\n",
      "\u001b[38;5;246;03m# To add a line after a matching pattern:\u001b[39;00m\n",
      "\u001b[38;5;252msed\u001b[39m\u001b[38;5;252m \u001b[39m\u001b[38;5;214m'/happily ever after/a\\The end.'\u001b[39m\n",
      "\n",
      "\u001b[48;5;8m\u001b[24m tldr:sed \u001b[24m\u001b[0m\n",
      "\u001b[38;5;246;03m# sed\u001b[39;00m\n",
      "\u001b[38;5;246;03m# Edit text in a scriptable manner.\u001b[39;00m\n",
      "\u001b[38;5;246;03m# More information: <https://www.gnu.org/software/sed/manual/sed.html>.\u001b[39;00m\n",
      "\n",
      "\u001b[38;5;246;03m# Replace the first occurrence of a regular expression in each line of a file, and print the result:\u001b[39;00m\n",
      "\u001b[38;5;252msed\u001b[39m\u001b[38;5;252m \u001b[39m\u001b[38;5;214m's/regular_expression/replace/'\u001b[39m\u001b[38;5;252m \u001b[39m\u001b[38;5;252mfilename\u001b[39m\n",
      "\n",
      "\u001b[38;5;246;03m# Replace all occurrences of an extended regular expression in a file, and print the result:\u001b[39;00m\n",
      "\u001b[38;5;252msed\u001b[39m\u001b[38;5;252m \u001b[39m\u001b[38;5;252m-r\u001b[39m\u001b[38;5;252m \u001b[39m\u001b[38;5;214m's/regular_expression/replace/g'\u001b[39m\u001b[38;5;252m \u001b[39m\u001b[38;5;252mfilename\u001b[39m\n",
      "\n",
      "\u001b[38;5;246;03m# Replace all occurrences of a string in a file, overwriting the file (i.e. in-place):\u001b[39;00m\n",
      "\u001b[38;5;252msed\u001b[39m\u001b[38;5;252m \u001b[39m\u001b[38;5;252m-i\u001b[39m\u001b[38;5;252m \u001b[39m\u001b[38;5;214m's/find/replace/g'\u001b[39m\u001b[38;5;252m \u001b[39m\u001b[38;5;252mfilename\u001b[39m\n",
      "\n",
      "\u001b[38;5;246;03m# Replace only on lines matching the line pattern:\u001b[39;00m\n",
      "\u001b[38;5;252msed\u001b[39m\u001b[38;5;252m \u001b[39m\u001b[38;5;214m'/line_pattern/s/find/replace/'\u001b[39m\u001b[38;5;252m \u001b[39m\u001b[38;5;252mfilename\u001b[39m\n",
      "\n",
      "\u001b[38;5;246;03m# Delete lines matching the line pattern:\u001b[39;00m\n",
      "\u001b[38;5;252msed\u001b[39m\u001b[38;5;252m \u001b[39m\u001b[38;5;214m'/line_pattern/d'\u001b[39m\u001b[38;5;252m \u001b[39m\u001b[38;5;252mfilename\u001b[39m\n",
      "\n",
      "\u001b[38;5;246;03m# Print the first 11 lines of a file:\u001b[39;00m\n",
      "\u001b[38;5;252msed\u001b[39m\u001b[38;5;252m \u001b[39m\u001b[38;5;252m11q\u001b[39m\u001b[38;5;252m \u001b[39m\u001b[38;5;252mfilename\u001b[39m\n",
      "\n",
      "\u001b[38;5;246;03m# Apply multiple find-replace expressions to a file:\u001b[39;00m\n",
      "\u001b[38;5;252msed\u001b[39m\u001b[38;5;252m \u001b[39m\u001b[38;5;252m-e\u001b[39m\u001b[38;5;252m \u001b[39m\u001b[38;5;214m's/find/replace/'\u001b[39m\u001b[38;5;252m \u001b[39m\u001b[38;5;252m-e\u001b[39m\u001b[38;5;252m \u001b[39m\u001b[38;5;214m's/find/replace/'\u001b[39m\u001b[38;5;252m \u001b[39m\u001b[38;5;252mfilename\u001b[39m\n",
      "\n",
      "\u001b[38;5;246;03m# Replace separator `/` by any other character not used in the find or replace patterns, e.g. `#`:\u001b[39;00m\n",
      "\u001b[38;5;252msed\u001b[39m\u001b[38;5;252m \u001b[39m\u001b[38;5;214m's#find#replace#'\u001b[39m\u001b[38;5;252m \u001b[39m\u001b[38;5;252mfilename\u001b[39m\n",
      "\n"
     ]
    }
   ],
   "source": [
    "curl cheat.sh/sed"
   ]
  },
  {
   "cell_type": "code",
   "execution_count": 80,
   "id": "5cfe9d99",
   "metadata": {
    "scrolled": true
   },
   "outputs": [
    {
     "name": "stdout",
     "output_type": "stream",
     "text": [
      "50 Cactus Freeway, Phoenix, AZ\n",
      "777 5th Ave, New York, NY\n",
      "50 Market Blvd, Oakland, CA\n",
      "505 Nord Freeway, Phoenix, AZ\n",
      "57 New St., Oakland, CA\n"
     ]
    }
   ],
   "source": [
    "cat addr.txt"
   ]
  },
  {
   "cell_type": "markdown",
   "id": "ffc57484",
   "metadata": {},
   "source": [
    "`-r` -- (Linux/GNU) интерпретирвоать шаблоны как расширенные RE (ERE)\n",
    "\n",
    "`-E` -- (MacOS) интерпретирвоать шаблоны как расширенные RE (ERE)\n",
    "\n",
    "\n",
    "В следующем примере не `\\+` а `+`"
   ]
  },
  {
   "cell_type": "markdown",
   "id": "45384feb-d7c6-4f62-b834-7c4a87bf3a89",
   "metadata": {},
   "source": [
    "Linux"
   ]
  },
  {
   "cell_type": "code",
   "execution_count": 82,
   "id": "4f4a41b0",
   "metadata": {
    "collapsed": true,
    "jupyter": {
     "outputs_hidden": true
    },
    "tags": []
   },
   "outputs": [
    {
     "name": "stdout",
     "output_type": "stream",
     "text": [
      "sed: illegal option -- r\n",
      "usage: sed script [-Ealn] [-i extension] [file ...]\n",
      "       sed [-Ealn] [-i extension] [-e script] ... [-f script_file] ... [file ...]\n",
      "\n"
     ]
    }
   ],
   "source": [
    "sed -r -e 's/[0-9]+/xxx/' <addr.txt"
   ]
  },
  {
   "cell_type": "markdown",
   "id": "52fdf589-d29b-44d7-bdd4-7406af482d57",
   "metadata": {},
   "source": [
    "MacOS"
   ]
  },
  {
   "cell_type": "code",
   "execution_count": 85,
   "id": "478244f4-32fc-4d58-b7fc-e5f93521cf4b",
   "metadata": {},
   "outputs": [
    {
     "name": "stdout",
     "output_type": "stream",
     "text": [
      "xxx Cactus Freeway, Phoenix, AZ\n",
      "xxx 5th Ave, New York, NY\n",
      "xxx Market Blvd, Oakland, CA\n",
      "xxx Nord Freeway, Phoenix, AZ\n",
      "xxx New St., Oakland, CA\n",
      "\n"
     ]
    }
   ],
   "source": [
    "sed -E -e 's/[0-9]+/xxx/' <addr.txt"
   ]
  }
 ],
 "metadata": {
  "kernelspec": {
   "display_name": "Calysto Bash",
   "language": "bash",
   "name": "calysto_bash"
  },
  "language_info": {
   "file_extension": ".sh",
   "help_links": [
    {
     "text": "MetaKernel Magics",
     "url": "https://metakernel.readthedocs.io/en/latest/source/README.html"
    }
   ],
   "mimetype": "text/x-sh",
   "name": "bash",
   "version": "0.2.2"
  }
 },
 "nbformat": 4,
 "nbformat_minor": 5
}
